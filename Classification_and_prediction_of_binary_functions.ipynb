{
  "nbformat": 4,
  "nbformat_minor": 0,
  "metadata": {
    "colab": {
      "provenance": [],
      "collapsed_sections": []
    },
    "kernelspec": {
      "name": "python3",
      "display_name": "Python 3"
    }
  },
  "cells": [
    {
      "cell_type": "markdown",
      "metadata": {
        "id": "Z62YJE78EcK9"
      },
      "source": [
        "## Import needed libraries"
      ]
    },
    {
      "cell_type": "code",
      "metadata": {
        "colab": {
          "base_uri": "https://localhost:8080/"
        },
        "id": "kZPCxZ29agxr",
        "outputId": "52e00f3f-d2b3-43de-e01b-880dad91350f"
      },
      "source": [
        "import json\n",
        "import random\n",
        "import numpy as np\n",
        "import pandas as pd\n",
        "from sklearn import feature_extraction\n",
        "from sklearn.model_selection import train_test_split, cross_val_score, ShuffleSplit, GridSearchCV\n",
        "from sklearn import svm\n",
        "from sklearn.neighbors import KNeighborsClassifier\n",
        "from sklearn.naive_bayes import GaussianNB, BernoulliNB, MultinomialNB\n",
        "from sklearn.linear_model import LogisticRegression, Perceptron\n",
        "from sklearn.metrics import classification_report, confusion_matrix\n",
        "from sklearn.utils.multiclass import unique_labels\n",
        "import matplotlib.pyplot as plt\n",
        "import csv\n",
        "\n",
        "print(\"Libraries imported.\")"
      ],
      "execution_count": null,
      "outputs": [
        {
          "output_type": "stream",
          "text": [
            "Libraries imported.\n"
          ],
          "name": "stdout"
        }
      ]
    },
    {
      "cell_type": "markdown",
      "metadata": {
        "id": "Dnm5HakC6dO0"
      },
      "source": [
        "## Load data\n",
        "\n",
        "Mount Google Drive"
      ]
    },
    {
      "cell_type": "code",
      "metadata": {
        "colab": {
          "base_uri": "https://localhost:8080/"
        },
        "id": "fjzjQgLAbhUc",
        "outputId": "ae8d3148-d652-464d-d4e6-44f2657c836e"
      },
      "source": [
        "from google.colab import drive\n",
        "drive.mount('/content/drive')"
      ],
      "execution_count": null,
      "outputs": [
        {
          "output_type": "stream",
          "text": [
            "Mounted at /content/drive\n"
          ],
          "name": "stdout"
        }
      ]
    },
    {
      "cell_type": "code",
      "metadata": {
        "colab": {
          "base_uri": "https://localhost:8080/"
        },
        "id": "-FQ3s_07dZLr",
        "outputId": "8f9e308e-37c4-42ff-8710-9b6d167cac0c"
      },
      "source": [
        "#%cd content/drive/MyDrive/Colab\\ Notebooks/nodup_classification\n",
        "%cd drive/MyDrive/Colab\\ Notebooks/nodup_classification\n",
        "\n",
        "%ls"
      ],
      "execution_count": null,
      "outputs": [
        {
          "output_type": "stream",
          "text": [
            "/content/drive/MyDrive/Colab Notebooks/nodup_classification\n",
            "blindtest.json                       c_matrix_SVC.eps\n",
            "category_graph.eps                   New_Blindtest.csv\n",
            "c_matrix_LogisticRegression.eps      New_Dataset.csv\n",
            "c_matrix_MultinomialNB.eps           nodupblindtest.json\n",
            "c_matrix_RandomForestClassifier.eps  noduplicatedataset.json\n"
          ],
          "name": "stdout"
        }
      ]
    },
    {
      "cell_type": "code",
      "metadata": {
        "colab": {
          "base_uri": "https://localhost:8080/",
          "height": 355
        },
        "id": "qfQ8LtnQroyP",
        "outputId": "7e77d62f-41bc-416b-ca1c-6dc6551c15b6"
      },
      "source": [
        "dataset = 'noduplicatedataset.json'\n",
        "df = pd.read_json(dataset, lines=True)\n",
        "df.head(10)"
      ],
      "execution_count": null,
      "outputs": [
        {
          "output_type": "execute_result",
          "data": {
            "text/html": [
              "<div>\n",
              "<style scoped>\n",
              "    .dataframe tbody tr th:only-of-type {\n",
              "        vertical-align: middle;\n",
              "    }\n",
              "\n",
              "    .dataframe tbody tr th {\n",
              "        vertical-align: top;\n",
              "    }\n",
              "\n",
              "    .dataframe thead th {\n",
              "        text-align: right;\n",
              "    }\n",
              "</style>\n",
              "<table border=\"1\" class=\"dataframe\">\n",
              "  <thead>\n",
              "    <tr style=\"text-align: right;\">\n",
              "      <th></th>\n",
              "      <th>id</th>\n",
              "      <th>semantic</th>\n",
              "      <th>lista_asm</th>\n",
              "      <th>cfg</th>\n",
              "    </tr>\n",
              "  </thead>\n",
              "  <tbody>\n",
              "    <tr>\n",
              "      <th>0</th>\n",
              "      <td>828</td>\n",
              "      <td>string</td>\n",
              "      <td>['jmp qword ptr [rip + 0x220882]', 'jmp qword ...</td>\n",
              "      <td>{'directed': True, 'graph': [], 'nodes': [{'id...</td>\n",
              "    </tr>\n",
              "    <tr>\n",
              "      <th>1</th>\n",
              "      <td>11786</td>\n",
              "      <td>math</td>\n",
              "      <td>['ucomisd xmm2, xmm2', 'jp 0x40', 'ucomisd xmm...</td>\n",
              "      <td>{'directed': True, 'graph': [], 'nodes': [{'id...</td>\n",
              "    </tr>\n",
              "    <tr>\n",
              "      <th>2</th>\n",
              "      <td>12621</td>\n",
              "      <td>encryption</td>\n",
              "      <td>['push rbx', 'mov r8d, ecx', 'mov qword ptr [r...</td>\n",
              "      <td>{'directed': True, 'graph': [], 'nodes': [{'id...</td>\n",
              "    </tr>\n",
              "    <tr>\n",
              "      <th>3</th>\n",
              "      <td>11166</td>\n",
              "      <td>math</td>\n",
              "      <td>['mov qword ptr [rsp - 0x10], rbx', 'mov qword...</td>\n",
              "      <td>{'directed': True, 'graph': [], 'nodes': [{'id...</td>\n",
              "    </tr>\n",
              "    <tr>\n",
              "      <th>4</th>\n",
              "      <td>10432</td>\n",
              "      <td>sort</td>\n",
              "      <td>['jmp qword ptr [rip + 0x200ba2]', 'jmp qword ...</td>\n",
              "      <td>{'directed': True, 'graph': [], 'nodes': [{'id...</td>\n",
              "    </tr>\n",
              "    <tr>\n",
              "      <th>5</th>\n",
              "      <td>4176</td>\n",
              "      <td>encryption</td>\n",
              "      <td>['push rbp', 'push r15', 'push r14', 'push r13...</td>\n",
              "      <td>{'directed': True, 'graph': [], 'nodes': [{'id...</td>\n",
              "    </tr>\n",
              "    <tr>\n",
              "      <th>6</th>\n",
              "      <td>8323</td>\n",
              "      <td>encryption</td>\n",
              "      <td>['push rbp', 'push r15', 'push r14', 'push r12...</td>\n",
              "      <td>{'directed': True, 'graph': [], 'nodes': [{'id...</td>\n",
              "    </tr>\n",
              "    <tr>\n",
              "      <th>7</th>\n",
              "      <td>14389</td>\n",
              "      <td>encryption</td>\n",
              "      <td>['push rbp', 'push rbx', 'mov r10, rdx', 'movz...</td>\n",
              "      <td>{'directed': True, 'graph': [], 'nodes': [{'id...</td>\n",
              "    </tr>\n",
              "    <tr>\n",
              "      <th>8</th>\n",
              "      <td>6501</td>\n",
              "      <td>sort</td>\n",
              "      <td>['push rbp', 'push r15', 'push r14', 'push r13...</td>\n",
              "      <td>{'directed': True, 'graph': [], 'nodes': [{'id...</td>\n",
              "    </tr>\n",
              "    <tr>\n",
              "      <th>9</th>\n",
              "      <td>1141</td>\n",
              "      <td>string</td>\n",
              "      <td>['jmp qword ptr [rip + 0x200b92]', 'jmp qword ...</td>\n",
              "      <td>{'directed': True, 'graph': [], 'nodes': [{'id...</td>\n",
              "    </tr>\n",
              "  </tbody>\n",
              "</table>\n",
              "</div>"
            ],
            "text/plain": [
              "      id  ...                                                cfg\n",
              "0    828  ...  {'directed': True, 'graph': [], 'nodes': [{'id...\n",
              "1  11786  ...  {'directed': True, 'graph': [], 'nodes': [{'id...\n",
              "2  12621  ...  {'directed': True, 'graph': [], 'nodes': [{'id...\n",
              "3  11166  ...  {'directed': True, 'graph': [], 'nodes': [{'id...\n",
              "4  10432  ...  {'directed': True, 'graph': [], 'nodes': [{'id...\n",
              "5   4176  ...  {'directed': True, 'graph': [], 'nodes': [{'id...\n",
              "6   8323  ...  {'directed': True, 'graph': [], 'nodes': [{'id...\n",
              "7  14389  ...  {'directed': True, 'graph': [], 'nodes': [{'id...\n",
              "8   6501  ...  {'directed': True, 'graph': [], 'nodes': [{'id...\n",
              "9   1141  ...  {'directed': True, 'graph': [], 'nodes': [{'id...\n",
              "\n",
              "[10 rows x 4 columns]"
            ]
          },
          "metadata": {
            "tags": []
          },
          "execution_count": 4
        }
      ]
    },
    {
      "cell_type": "markdown",
      "metadata": {
        "id": "QVzj4jZ8Lfdb"
      },
      "source": [
        "For easier use, create a csv file including only necessary data from the json file\n"
      ]
    },
    {
      "cell_type": "code",
      "metadata": {
        "colab": {
          "base_uri": "https://localhost:8080/"
        },
        "id": "RUZ5nA3guTaz",
        "outputId": "ccc88823-c245-4001-eaf8-4c029b49dcfc"
      },
      "source": [
        "data = []\n",
        "for line in open(\"noduplicatedataset.json\", \"r\"):\n",
        "    data.append(json.loads(line))\n",
        "content, label = [], []\n",
        "for each in data:\n",
        "    content.append(each['lista_asm'])\n",
        "    label.append(each['semantic'])\n",
        "df = pd.DataFrame([content, label]).T\n",
        "df.columns = ['content', 'label']\n",
        "print(df.head())\n",
        "'''create a csv dataset file using json dataset file'''\n",
        "df.to_csv('New_Dataset.csv', index = False)"
      ],
      "execution_count": null,
      "outputs": [
        {
          "output_type": "stream",
          "text": [
            "                                             content       label\n",
            "0  ['jmp qword ptr [rip + 0x220882]', 'jmp qword ...      string\n",
            "1  ['ucomisd xmm2, xmm2', 'jp 0x40', 'ucomisd xmm...        math\n",
            "2  ['push rbx', 'mov r8d, ecx', 'mov qword ptr [r...  encryption\n",
            "3  ['mov qword ptr [rsp - 0x10], rbx', 'mov qword...        math\n",
            "4  ['jmp qword ptr [rip + 0x200ba2]', 'jmp qword ...        sort\n"
          ],
          "name": "stdout"
        }
      ]
    },
    {
      "cell_type": "markdown",
      "metadata": {
        "id": "r3oM2sI2NnfB"
      },
      "source": [
        "## Exploring the Data\n",
        "\n",
        "Once created the file csv it is possible to start directly from this point (remember to include the folder data).\n",
        "First, load all the necessary libraries needed to implement the entire solution."
      ]
    },
    {
      "cell_type": "code",
      "metadata": {
        "id": "SbFYx6HsLuHp",
        "colab": {
          "base_uri": "https://localhost:8080/"
        },
        "outputId": "8c544b38-c25f-40e2-e653-a46aa1ca44d7"
      },
      "source": [
        "import pandas as pd\n",
        "import numpy as np\n",
        "import matplotlib.pyplot as plt\n",
        "import csv\n",
        "import time\n",
        "from sklearn.feature_extraction.text import TfidfVectorizer\n",
        "from sklearn.feature_selection import chi2\n",
        "from IPython.display import display\n",
        "from sklearn.model_selection import train_test_split\n",
        "from sklearn.feature_extraction.text import TfidfTransformer\n",
        "from sklearn.naive_bayes import MultinomialNB\n",
        "from sklearn.linear_model import LogisticRegression\n",
        "from sklearn.ensemble import RandomForestClassifier\n",
        "from sklearn.svm import LinearSVC\n",
        "from sklearn.model_selection import cross_val_score\n",
        "from sklearn.metrics import confusion_matrix\n",
        "from sklearn import metrics\n",
        "\n",
        "print(\"Libraries imported.\")"
      ],
      "execution_count": null,
      "outputs": [
        {
          "output_type": "stream",
          "text": [
            "Libraries imported.\n"
          ],
          "name": "stdout"
        }
      ]
    },
    {
      "cell_type": "markdown",
      "metadata": {
        "id": "EFpebfgBMaSn"
      },
      "source": [
        "Load and visualize the dataset."
      ]
    },
    {
      "cell_type": "code",
      "metadata": {
        "colab": {
          "base_uri": "https://localhost:8080/",
          "height": 219
        },
        "id": "6eF6xXyZMZ-n",
        "outputId": "ae0b07cc-9bc6-4713-a482-aac7780c6637"
      },
      "source": [
        "# loading data\n",
        "df = pd.read_csv(\"New_Dataset.csv\")\n",
        "print(df.shape)\n",
        "df.head()"
      ],
      "execution_count": null,
      "outputs": [
        {
          "output_type": "stream",
          "text": [
            "(6073, 2)\n"
          ],
          "name": "stdout"
        },
        {
          "output_type": "execute_result",
          "data": {
            "text/html": [
              "<div>\n",
              "<style scoped>\n",
              "    .dataframe tbody tr th:only-of-type {\n",
              "        vertical-align: middle;\n",
              "    }\n",
              "\n",
              "    .dataframe tbody tr th {\n",
              "        vertical-align: top;\n",
              "    }\n",
              "\n",
              "    .dataframe thead th {\n",
              "        text-align: right;\n",
              "    }\n",
              "</style>\n",
              "<table border=\"1\" class=\"dataframe\">\n",
              "  <thead>\n",
              "    <tr style=\"text-align: right;\">\n",
              "      <th></th>\n",
              "      <th>content</th>\n",
              "      <th>label</th>\n",
              "    </tr>\n",
              "  </thead>\n",
              "  <tbody>\n",
              "    <tr>\n",
              "      <th>0</th>\n",
              "      <td>['jmp qword ptr [rip + 0x220882]', 'jmp qword ...</td>\n",
              "      <td>string</td>\n",
              "    </tr>\n",
              "    <tr>\n",
              "      <th>1</th>\n",
              "      <td>['ucomisd xmm2, xmm2', 'jp 0x40', 'ucomisd xmm...</td>\n",
              "      <td>math</td>\n",
              "    </tr>\n",
              "    <tr>\n",
              "      <th>2</th>\n",
              "      <td>['push rbx', 'mov r8d, ecx', 'mov qword ptr [r...</td>\n",
              "      <td>encryption</td>\n",
              "    </tr>\n",
              "    <tr>\n",
              "      <th>3</th>\n",
              "      <td>['mov qword ptr [rsp - 0x10], rbx', 'mov qword...</td>\n",
              "      <td>math</td>\n",
              "    </tr>\n",
              "    <tr>\n",
              "      <th>4</th>\n",
              "      <td>['jmp qword ptr [rip + 0x200ba2]', 'jmp qword ...</td>\n",
              "      <td>sort</td>\n",
              "    </tr>\n",
              "  </tbody>\n",
              "</table>\n",
              "</div>"
            ],
            "text/plain": [
              "                                             content       label\n",
              "0  ['jmp qword ptr [rip + 0x220882]', 'jmp qword ...      string\n",
              "1  ['ucomisd xmm2, xmm2', 'jp 0x40', 'ucomisd xmm...        math\n",
              "2  ['push rbx', 'mov r8d, ecx', 'mov qword ptr [r...  encryption\n",
              "3  ['mov qword ptr [rsp - 0x10], rbx', 'mov qword...        math\n",
              "4  ['jmp qword ptr [rip + 0x200ba2]', 'jmp qword ...        sort"
            ]
          },
          "metadata": {
            "tags": []
          },
          "execution_count": 7
        }
      ]
    },
    {
      "cell_type": "markdown",
      "metadata": {
        "id": "ofCdvMEjMrNl"
      },
      "source": [
        "Check null values in the dataset."
      ]
    },
    {
      "cell_type": "code",
      "metadata": {
        "colab": {
          "base_uri": "https://localhost:8080/"
        },
        "id": "_E8u7zL3MukJ",
        "outputId": "5e1c831c-7d9e-4e0f-f649-87a8367865ac"
      },
      "source": [
        "# Percentage of not null data\n",
        "total = df['content'].notnull().sum()\n",
        "round((total/len(df)*100),1)"
      ],
      "execution_count": null,
      "outputs": [
        {
          "output_type": "execute_result",
          "data": {
            "text/plain": [
              "100.0"
            ]
          },
          "metadata": {
            "tags": []
          },
          "execution_count": 8
        }
      ]
    },
    {
      "cell_type": "markdown",
      "metadata": {
        "id": "TH0_1zfPcIJz"
      },
      "source": [
        "Unique labels from the dataset"
      ]
    },
    {
      "cell_type": "code",
      "metadata": {
        "colab": {
          "base_uri": "https://localhost:8080/",
          "height": 171
        },
        "id": "z8DGDa_oNE2A",
        "outputId": "5b6f72f9-d1d1-4514-961e-d0cb04763930"
      },
      "source": [
        "pd.DataFrame(df.label.unique())"
      ],
      "execution_count": null,
      "outputs": [
        {
          "output_type": "execute_result",
          "data": {
            "text/html": [
              "<div>\n",
              "<style scoped>\n",
              "    .dataframe tbody tr th:only-of-type {\n",
              "        vertical-align: middle;\n",
              "    }\n",
              "\n",
              "    .dataframe tbody tr th {\n",
              "        vertical-align: top;\n",
              "    }\n",
              "\n",
              "    .dataframe thead th {\n",
              "        text-align: right;\n",
              "    }\n",
              "</style>\n",
              "<table border=\"1\" class=\"dataframe\">\n",
              "  <thead>\n",
              "    <tr style=\"text-align: right;\">\n",
              "      <th></th>\n",
              "      <th>0</th>\n",
              "    </tr>\n",
              "  </thead>\n",
              "  <tbody>\n",
              "    <tr>\n",
              "      <th>0</th>\n",
              "      <td>string</td>\n",
              "    </tr>\n",
              "    <tr>\n",
              "      <th>1</th>\n",
              "      <td>math</td>\n",
              "    </tr>\n",
              "    <tr>\n",
              "      <th>2</th>\n",
              "      <td>encryption</td>\n",
              "    </tr>\n",
              "    <tr>\n",
              "      <th>3</th>\n",
              "      <td>sort</td>\n",
              "    </tr>\n",
              "  </tbody>\n",
              "</table>\n",
              "</div>"
            ],
            "text/plain": [
              "            0\n",
              "0      string\n",
              "1        math\n",
              "2  encryption\n",
              "3        sort"
            ]
          },
          "metadata": {
            "tags": []
          },
          "execution_count": 9
        }
      ]
    },
    {
      "cell_type": "code",
      "metadata": {
        "colab": {
          "base_uri": "https://localhost:8080/",
          "height": 419
        },
        "id": "o8FtmJtHNTq8",
        "outputId": "6dac352f-7648-457c-e098-164e3019b9ce"
      },
      "source": [
        "# Bar chart to show the number of instances per category\n",
        "fig = plt.figure(figsize=(8,6))\n",
        "df.groupby('label').content.count().sort_values().plot.barh(\n",
        "    ylim=0, title= 'NUMBER OF DATA IN EACH CATEGORY\\n')\n",
        "plt.xlabel('Number Of Ocurrences', fontsize = 10);\n",
        "plt.savefig('category_graph.eps', bbox_inches='tight')"
      ],
      "execution_count": null,
      "outputs": [
        {
          "output_type": "display_data",
          "data": {
            "image/png": "[encoded data removed]",
            "text/plain": [
              "<Figure size 576x432 with 1 Axes>"
            ]
          },
          "metadata": {
            "tags": [],
            "needs_background": "light"
          }
        }
      ]
    },
    {
      "cell_type": "markdown",
      "metadata": {
        "id": "SuW3jpFRN0PN"
      },
      "source": [
        "## Data Pre-Processing"
      ]
    },
    {
      "cell_type": "code",
      "metadata": {
        "colab": {
          "base_uri": "https://localhost:8080/",
          "height": 105
        },
        "id": "bJJnFysIOAsP",
        "outputId": "71b361c5-2917-480f-ed7d-d378e2a88248"
      },
      "source": [
        "# Content of some data\n",
        "df.content[0]\n",
        "df.content[1]"
      ],
      "execution_count": null,
      "outputs": [
        {
          "output_type": "execute_result",
          "data": {
            "application/vnd.google.colaboratory.intrinsic+json": {
              "type": "string"
            },
            "text/plain": [
              "\"['ucomisd xmm2, xmm2', 'jp 0x40', 'ucomisd xmm0, xmm1', 'jp 0x3a', 'pxor xmm3, xmm3', 'ucomisd xmm3, xmm1', 'jae 0x3e', 'ucomisd xmm3, xmm2', 'jae 0x34', 'pxor xmm3, xmm3', 'ucomisd xmm3, xmm0', 'jb 0x4d', 'test edi, edi', 'je 0x31', 'movapd xmm2, xmm3', 'test esi, esi', 'je 0x28', 'movsd xmm2, qword ptr [rip + 0xde]', 'divsd xmm2, xmm3', 'jmp 0x20', 'addsd xmm0, xmm1', 'addsd xmm2, xmm0', 'jmp 0x12', 'pxor xmm2, xmm2', 'divsd xmm2, xmm2', 'movapd xmm0, xmm2', 'ret ', 'movapd xmm0, xmm2', 'ret ', 'pxor xmm2, xmm2', 'test esi, esi', 'jne 0xfffffffffffffffb', 'movsd xmm2, qword ptr [rip + 0xa9]', 'jmp 0xfffffffffffffff3', 'push rbp', 'push rbx', 'sub rsp, 8', 'mov ebp, esi', 'mov ebx, edi', 'divsd xmm0, xmm2', 'call 0x13', 'movapd xmm2, xmm0', 'xorpd xmm2, xmmword ptr [rip + 0xa8]', 'test ebx, ebx', 'je 0x71']\""
            ]
          },
          "metadata": {
            "tags": []
          },
          "execution_count": 11
        }
      ]
    },
    {
      "cell_type": "markdown",
      "metadata": {
        "id": "OOyTPp5gUuU4"
      },
      "source": [
        "Remove irrelevant characters: simple text cleaning steps such as removing white spaces and numbers, removing symbols & puncuations, convert text to lowercase etc.\n",
        "The aim is to have only relevant data for the features identification.\n",
        "These are contained in the characters of interest list."
      ]
    },
    {
      "cell_type": "code",
      "metadata": {
        "colab": {
          "base_uri": "https://localhost:8080/",
          "height": 355
        },
        "id": "6J5KaTJ1p6Wc",
        "outputId": "43d2e68a-a3e6-4a7d-9b92-d5857386c2a7"
      },
      "source": [
        "import re\n",
        "from nltk.corpus import stopwords\n",
        "REPLACE_BY_SPACE_RE = re.compile('[/(){}\\[\\]\\|@,;]')\n",
        "BAD_SYMBOLS_RE = re.compile('[^0-9a-z #+_]')\n",
        "#STOPWORDS = set(stopwords.words('english'))\n",
        "\n",
        "# Characters of interest\n",
        "char_of_int_lst = ['not','and','or','xor','sal','sar','shr','shl',\n",
        "                   'cmp','test','mov',\n",
        "                   'xmm',\n",
        "                   'ucomis']\n",
        "def clean_text(text):\n",
        "    \"\"\"\n",
        "        text: a string\n",
        "        \n",
        "        return: modified string\n",
        "    \"\"\"\n",
        "    text = str(text).lower() # lowercase text\n",
        "    text = REPLACE_BY_SPACE_RE.sub(' ', text) # replace REPLACE_BY_SPACE_RE symbols by space in text\n",
        "    text = BAD_SYMBOLS_RE.sub('', text) # delete symbols which are in BAD_SYMBOLS_RE from text\n",
        "    text = re.sub(\" \\d+\", \" \", text) # remove digits\n",
        "    text = re.sub(\" #\\d+\", \" \", text) # remove digits starting with # symbol\n",
        "    text = ' '.join(word for word in text.split() if any(ch in word for ch in char_of_int_lst)) # delete stopwors from text\n",
        "    return text\n",
        "df['content'] = df['content'].apply(clean_text)\n",
        "df.head(10)\n",
        "\n"
      ],
      "execution_count": null,
      "outputs": [
        {
          "output_type": "execute_result",
          "data": {
            "text/html": [
              "<div>\n",
              "<style scoped>\n",
              "    .dataframe tbody tr th:only-of-type {\n",
              "        vertical-align: middle;\n",
              "    }\n",
              "\n",
              "    .dataframe tbody tr th {\n",
              "        vertical-align: top;\n",
              "    }\n",
              "\n",
              "    .dataframe thead th {\n",
              "        text-align: right;\n",
              "    }\n",
              "</style>\n",
              "<table border=\"1\" class=\"dataframe\">\n",
              "  <thead>\n",
              "    <tr style=\"text-align: right;\">\n",
              "      <th></th>\n",
              "      <th>content</th>\n",
              "      <th>label</th>\n",
              "    </tr>\n",
              "  </thead>\n",
              "  <tbody>\n",
              "    <tr>\n",
              "      <th>0</th>\n",
              "      <td>qword qword qword mov mov dword cmp dword mov ...</td>\n",
              "      <td>string</td>\n",
              "    </tr>\n",
              "    <tr>\n",
              "      <th>1</th>\n",
              "      <td>ucomisd xmm2 xmm2 ucomisd xmm0 xmm1 pxor xmm3 ...</td>\n",
              "      <td>math</td>\n",
              "    </tr>\n",
              "    <tr>\n",
              "      <th>2</th>\n",
              "      <td>mov mov qword mov qword xor word mov dword sar...</td>\n",
              "      <td>encryption</td>\n",
              "    </tr>\n",
              "    <tr>\n",
              "      <th>3</th>\n",
              "      <td>mov qword mov qword movsd qword xmm0 mov mov m...</td>\n",
              "      <td>math</td>\n",
              "    </tr>\n",
              "    <tr>\n",
              "      <th>4</th>\n",
              "      <td>qword qword qword mov xor mov xor mov cmp dwor...</td>\n",
              "      <td>sort</td>\n",
              "    </tr>\n",
              "    <tr>\n",
              "      <th>5</th>\n",
              "      <td>mov qword mov qword mov qword xor qword xor qw...</td>\n",
              "      <td>encryption</td>\n",
              "    </tr>\n",
              "    <tr>\n",
              "      <th>6</th>\n",
              "      <td>xorps xmm0 xmm0 movaps xmmword xmm0 movaps xmm...</td>\n",
              "      <td>encryption</td>\n",
              "    </tr>\n",
              "    <tr>\n",
              "      <th>7</th>\n",
              "      <td>mov movzx shl movzx shl or movzx shl or movzx ...</td>\n",
              "      <td>encryption</td>\n",
              "    </tr>\n",
              "    <tr>\n",
              "      <th>8</th>\n",
              "      <td>mov cmp movsxd mov mov qword mov qword mov xor...</td>\n",
              "      <td>sort</td>\n",
              "    </tr>\n",
              "    <tr>\n",
              "      <th>9</th>\n",
              "      <td>qword qword qword qword mov mov mov mov qword ...</td>\n",
              "      <td>string</td>\n",
              "    </tr>\n",
              "  </tbody>\n",
              "</table>\n",
              "</div>"
            ],
            "text/plain": [
              "                                             content       label\n",
              "0  qword qword qword mov mov dword cmp dword mov ...      string\n",
              "1  ucomisd xmm2 xmm2 ucomisd xmm0 xmm1 pxor xmm3 ...        math\n",
              "2  mov mov qword mov qword xor word mov dword sar...  encryption\n",
              "3  mov qword mov qword movsd qword xmm0 mov mov m...        math\n",
              "4  qword qword qword mov xor mov xor mov cmp dwor...        sort\n",
              "5  mov qword mov qword mov qword xor qword xor qw...  encryption\n",
              "6  xorps xmm0 xmm0 movaps xmmword xmm0 movaps xmm...  encryption\n",
              "7  mov movzx shl movzx shl or movzx shl or movzx ...  encryption\n",
              "8  mov cmp movsxd mov mov qword mov qword mov xor...        sort\n",
              "9  qword qword qword qword mov mov mov mov qword ...      string"
            ]
          },
          "metadata": {
            "tags": []
          },
          "execution_count": 12
        }
      ]
    },
    {
      "cell_type": "markdown",
      "metadata": {
        "id": "T5A39OcDeuBs"
      },
      "source": [
        "Example of content associated to each label"
      ]
    },
    {
      "cell_type": "code",
      "metadata": {
        "colab": {
          "base_uri": "https://localhost:8080/",
          "height": 105
        },
        "id": "FGNLk_oP3DmO",
        "outputId": "b367d68e-7418-4b95-af47-e7f09028f4d7"
      },
      "source": [
        "print(\"String:\")\n",
        "df.content[0]\n"
      ],
      "execution_count": null,
      "outputs": [
        {
          "output_type": "stream",
          "text": [
            "String:\n"
          ],
          "name": "stdout"
        },
        {
          "output_type": "execute_result",
          "data": {
            "application/vnd.google.colaboratory.intrinsic+json": {
              "type": "string"
            },
            "text/plain": [
              "'qword qword qword mov mov dword cmp dword mov mov qword cmp qword mov qword cmp dword mov qword cmp qword mov qword mov mov mov qword cmp qword mov qword mov qword mov dword mov dword mov dword mov mov dword movsxd dword mov qword mov qword mov qword cmp qword mov dword mov dword movsxd dword mov qword mov qword mov qword cmp qword mov qword mov mov qword mov dword mov qword mov dword mov dword mov qword mov dword cmp dword mov qword mov qword mov qword mov qword movsxd dword mov qword movsxd dword mov qword mov qword mov mov qword mov qword mov qword mov qword'"
            ]
          },
          "metadata": {
            "tags": []
          },
          "execution_count": 13
        }
      ]
    },
    {
      "cell_type": "code",
      "metadata": {
        "colab": {
          "base_uri": "https://localhost:8080/",
          "height": 87
        },
        "id": "yGFdanB63pny",
        "outputId": "be97525d-750e-42cc-f268-1d16af34a076"
      },
      "source": [
        "print(\"Math:\")\n",
        "df.content[1]"
      ],
      "execution_count": null,
      "outputs": [
        {
          "output_type": "stream",
          "text": [
            "Math:\n"
          ],
          "name": "stdout"
        },
        {
          "output_type": "execute_result",
          "data": {
            "application/vnd.google.colaboratory.intrinsic+json": {
              "type": "string"
            },
            "text/plain": [
              "'ucomisd xmm2 xmm2 ucomisd xmm0 xmm1 pxor xmm3 xmm3 ucomisd xmm3 xmm1 ucomisd xmm3 xmm2 pxor xmm3 xmm3 ucomisd xmm3 xmm0 test movapd xmm2 xmm3 test movsd xmm2 qword xmm2 xmm3 xmm0 xmm1 xmm2 xmm0 pxor xmm2 xmm2 xmm2 xmm2 movapd xmm0 xmm2 movapd xmm0 xmm2 pxor xmm2 xmm2 test movsd xmm2 qword mov mov xmm0 xmm2 movapd xmm2 xmm0 xorpd xmm2 xmmword test'"
            ]
          },
          "metadata": {
            "tags": []
          },
          "execution_count": 122
        }
      ]
    },
    {
      "cell_type": "code",
      "metadata": {
        "colab": {
          "base_uri": "https://localhost:8080/",
          "height": 139
        },
        "id": "L-O6YdyD3rpp",
        "outputId": "ba29ae0c-326a-4266-c1d8-a6214303b1db"
      },
      "source": [
        "print(\"Encryption:\")\n",
        "df.content[2]"
      ],
      "execution_count": null,
      "outputs": [
        {
          "output_type": "stream",
          "text": [
            "Encryption:\n"
          ],
          "name": "stdout"
        },
        {
          "output_type": "execute_result",
          "data": {
            "application/vnd.google.colaboratory.intrinsic+json": {
              "type": "string"
            },
            "text/plain": [
              "'mov mov qword mov qword xor word mov dword sar shr mov and mov shr sar movzx and shl movzx mov and shr mov sar shr sar movsxd movzx or mov cmp mov dword sar shr mov and mov shr sar movzx and shl movzx mov and shr mov sar shr sar movsxd movzx or mov cmp mov dword mov dword mov dword mov dword mov word mov dword mov word mov dword xor word mov dword sar shr mov and mov shr sar movsxd movzx and shl movzx mov and shr mov sar shr sar movsxd movzx or mov cmp mov dword mov word mov dword xor word mov dword sar shr mov and mov shr sar movsxd movzx and shl movzx mov and shr mov sar shr sar movsxd movzx or mov cmp mov dword sar shr mov and mov shr sar movsxd movzx and shl movzx mov and shr mov sar shr sar movsxd movzx or mov cmp mov test cmovne movsxd shl xor dword movzx xor cmp movzx xor cmp mov dword mov mov mov shr and mov shr and or mov shr and movzx shl movzx or mov dword shl or dword mov and mov shr and or shl and shr or movzx shl movzx or or dword mov mov mov mov shr and mov shr and or and mov shr or movzx shl movzx or mov dword shl movzx or mov shr and mov and or shr and movzx shl movzx or or dword mov mov mov mov shr and mov shr and or mov shr and movzx shl movzx or mov dword shl movzx or mov and mov shr and or shl and shr or movzx shl movzx or or dword mov mov mov mov shr and mov shr and or and mov shr or movzx shl movzx or mov dword shl movzx or mov shr and mov and or shr and movzx shl movzx or or dword mov mov dword xor word mov dword sar shr mov and mov shr sar movsxd movzx and shl movzx mov and shr mov sar shr sar movsxd movzx or mov cmp mov dword sar shr mov and mov shr sar movsxd movzx and shl movzx mov and shr mov sar shr sar movsxd movzx or mov cmp xor dword movzx xor cmp movzx xor cmp mov dword mov dword mov dword cmp xor movzx mov movzx mov cmp movzx mov movzx mov cmp xor dword mov dword sar shr mov and mov shr sar movsxd movzx and shl movzx mov and shr mov sar shr sar movsxd movzx or mov cmp mov dword sar shr mov and mov shr sar movsxd movzx and shl movzx mov and shr mov sar shr sar movsxd movzx or mov cmp'"
            ]
          },
          "metadata": {
            "tags": []
          },
          "execution_count": 124
        }
      ]
    },
    {
      "cell_type": "code",
      "metadata": {
        "colab": {
          "base_uri": "https://localhost:8080/",
          "height": 70
        },
        "id": "h64L5val3uVc",
        "outputId": "0767b809-352a-44b7-fc85-a126a4406114"
      },
      "source": [
        "print(\"Sort:\")\n",
        "df.content[4]"
      ],
      "execution_count": null,
      "outputs": [
        {
          "output_type": "stream",
          "text": [
            "Sort:\n"
          ],
          "name": "stdout"
        },
        {
          "output_type": "execute_result",
          "data": {
            "application/vnd.google.colaboratory.intrinsic+json": {
              "type": "string"
            },
            "text/plain": [
              "'qword qword qword mov xor mov xor mov cmp dword xor mov xor mov mov xor mov movsxd dword cmp test xor word test test movsxd mov dword mov dword cmp mov dword mov dword cmp cmp test xor dword mov dword mov xor mov dword mov xor movsxd dword cmp'"
            ]
          },
          "metadata": {
            "tags": []
          },
          "execution_count": 125
        }
      ]
    },
    {
      "cell_type": "code",
      "metadata": {
        "colab": {
          "base_uri": "https://localhost:8080/",
          "height": 355
        },
        "id": "sNom4Bsy5Jqk",
        "outputId": "883a7dc3-3b01-45a0-bf4d-2e9457cb1f21"
      },
      "source": [
        "# Create a new column 'label_id' with encoded categories \n",
        "df['label_id'] = df['label'].factorize()[0]\n",
        "new_df = df[['label', 'label_id']].drop_duplicates()\n",
        "# Dictionaries for future use\n",
        "category_to_id = dict(new_df.values)\n",
        "id_to_category = dict(new_df[['label_id', 'label']].values)\n",
        "# New dataframe\n",
        "df.head(10)"
      ],
      "execution_count": null,
      "outputs": [
        {
          "output_type": "execute_result",
          "data": {
            "text/html": [
              "<div>\n",
              "<style scoped>\n",
              "    .dataframe tbody tr th:only-of-type {\n",
              "        vertical-align: middle;\n",
              "    }\n",
              "\n",
              "    .dataframe tbody tr th {\n",
              "        vertical-align: top;\n",
              "    }\n",
              "\n",
              "    .dataframe thead th {\n",
              "        text-align: right;\n",
              "    }\n",
              "</style>\n",
              "<table border=\"1\" class=\"dataframe\">\n",
              "  <thead>\n",
              "    <tr style=\"text-align: right;\">\n",
              "      <th></th>\n",
              "      <th>content</th>\n",
              "      <th>label</th>\n",
              "      <th>label_id</th>\n",
              "    </tr>\n",
              "  </thead>\n",
              "  <tbody>\n",
              "    <tr>\n",
              "      <th>0</th>\n",
              "      <td>qword qword qword mov mov dword cmp dword mov ...</td>\n",
              "      <td>string</td>\n",
              "      <td>0</td>\n",
              "    </tr>\n",
              "    <tr>\n",
              "      <th>1</th>\n",
              "      <td>ucomisd xmm2 xmm2 ucomisd xmm0 xmm1 pxor xmm3 ...</td>\n",
              "      <td>math</td>\n",
              "      <td>1</td>\n",
              "    </tr>\n",
              "    <tr>\n",
              "      <th>2</th>\n",
              "      <td>mov mov qword mov qword xor word mov dword sar...</td>\n",
              "      <td>encryption</td>\n",
              "      <td>2</td>\n",
              "    </tr>\n",
              "    <tr>\n",
              "      <th>3</th>\n",
              "      <td>mov qword mov qword movsd qword xmm0 mov mov m...</td>\n",
              "      <td>math</td>\n",
              "      <td>1</td>\n",
              "    </tr>\n",
              "    <tr>\n",
              "      <th>4</th>\n",
              "      <td>qword qword qword mov xor mov xor mov cmp dwor...</td>\n",
              "      <td>sort</td>\n",
              "      <td>3</td>\n",
              "    </tr>\n",
              "    <tr>\n",
              "      <th>5</th>\n",
              "      <td>mov qword mov qword mov qword xor qword xor qw...</td>\n",
              "      <td>encryption</td>\n",
              "      <td>2</td>\n",
              "    </tr>\n",
              "    <tr>\n",
              "      <th>6</th>\n",
              "      <td>xorps xmm0 xmm0 movaps xmmword xmm0 movaps xmm...</td>\n",
              "      <td>encryption</td>\n",
              "      <td>2</td>\n",
              "    </tr>\n",
              "    <tr>\n",
              "      <th>7</th>\n",
              "      <td>mov movzx shl movzx shl or movzx shl or movzx ...</td>\n",
              "      <td>encryption</td>\n",
              "      <td>2</td>\n",
              "    </tr>\n",
              "    <tr>\n",
              "      <th>8</th>\n",
              "      <td>mov cmp movsxd mov mov qword mov qword mov xor...</td>\n",
              "      <td>sort</td>\n",
              "      <td>3</td>\n",
              "    </tr>\n",
              "    <tr>\n",
              "      <th>9</th>\n",
              "      <td>qword qword qword qword mov mov mov mov qword ...</td>\n",
              "      <td>string</td>\n",
              "      <td>0</td>\n",
              "    </tr>\n",
              "  </tbody>\n",
              "</table>\n",
              "</div>"
            ],
            "text/plain": [
              "                                             content       label  label_id\n",
              "0  qword qword qword mov mov dword cmp dword mov ...      string         0\n",
              "1  ucomisd xmm2 xmm2 ucomisd xmm0 xmm1 pxor xmm3 ...        math         1\n",
              "2  mov mov qword mov qword xor word mov dword sar...  encryption         2\n",
              "3  mov qword mov qword movsd qword xmm0 mov mov m...        math         1\n",
              "4  qword qword qword mov xor mov xor mov cmp dwor...        sort         3\n",
              "5  mov qword mov qword mov qword xor qword xor qw...  encryption         2\n",
              "6  xorps xmm0 xmm0 movaps xmmword xmm0 movaps xmm...  encryption         2\n",
              "7  mov movzx shl movzx shl or movzx shl or movzx ...  encryption         2\n",
              "8  mov cmp movsxd mov mov qword mov qword mov xor...        sort         3\n",
              "9  qword qword qword qword mov mov mov mov qword ...      string         0"
            ]
          },
          "metadata": {
            "tags": []
          },
          "execution_count": 14
        }
      ]
    },
    {
      "cell_type": "markdown",
      "metadata": {
        "id": "oni0MV0d5Ugl"
      },
      "source": [
        "##Feature Extraction\n"
      ]
    },
    {
      "cell_type": "code",
      "metadata": {
        "colab": {
          "base_uri": "https://localhost:8080/"
        },
        "id": "j2UNRd645rWf",
        "outputId": "dc68e52b-1e91-4b51-81ca-1cd65feb4876"
      },
      "source": [
        "tfidf = TfidfVectorizer(sublinear_tf=True, min_df=5,\n",
        "                        ngram_range=(1, 3), \n",
        "                        stop_words='english')\n",
        "# We transform each news data into a vector\n",
        "features = tfidf.fit_transform(df.content).toarray()\n",
        "labels = df.label_id\n",
        "print(\"Each of the %d news data is represented by %d features (TF-IDF score of unigrams, bigrams, trigrams)\" %(features.shape))"
      ],
      "execution_count": null,
      "outputs": [
        {
          "output_type": "stream",
          "text": [
            "Each of the 6073 news data is represented by 5412 features (TF-IDF score of unigrams, bigrams, trigrams)\n"
          ],
          "name": "stdout"
        }
      ]
    },
    {
      "cell_type": "markdown",
      "metadata": {
        "id": "vP9NS4fufZTP"
      },
      "source": [
        "Show the three most correlated terms with each category"
      ]
    },
    {
      "cell_type": "code",
      "metadata": {
        "colab": {
          "base_uri": "https://localhost:8080/"
        },
        "id": "BdMEtik8BNR5",
        "outputId": "316bfe77-275d-4abd-9042-325aa43da6a2"
      },
      "source": [
        "N = 3\n",
        "for Category, category_id in sorted(category_to_id.items()):\n",
        "  features_chi2 = chi2(features, labels == category_id)\n",
        "  indices = np.argsort(features_chi2[0])\n",
        "  feature_names = np.array(tfidf.get_feature_names())[indices]\n",
        "  unigrams = [v for v in feature_names if len(v.split(' ')) == 1]\n",
        "  bigrams = [v for v in feature_names if len(v.split(' ')) == 2]\n",
        "  trigrams = [v for v in feature_names if len(v.split(' ')) == 3]\n",
        "  print(\"\\n==> \", (Category), \":\")\n",
        "  print(\"  * Most Correlated Unigrams are: %s\" %(', '.join(unigrams[-N:])))\n",
        "  print(\"  * Most Correlated Bigrams are: %s\" %(', '.join(bigrams[-N:])))\n",
        "  print(\"  * Most Correlated Trigrams are: %s\" %(', '.join(trigrams[-N:])))"
      ],
      "execution_count": null,
      "outputs": [
        {
          "output_type": "stream",
          "text": [
            "\n",
            "==>  encryption :\n",
            "  * Most Correlated Unigrams are: shr, ror, shl\n",
            "  * Most Correlated Bigrams are: dword shr, movzx xor, xor dword\n",
            "  * Most Correlated Trigrams are: xor dword xor, dword xor dword, xor dword mov\n",
            "\n",
            "==>  math :\n",
            "  * Most Correlated Unigrams are: xmm1, xmm0, movsd\n",
            "  * Most Correlated Bigrams are: xmm0 qword, qword xmm0, movsd qword\n",
            "  * Most Correlated Trigrams are: movsd qword xmm1, movsd xmm0 qword, movsd qword xmm0\n",
            "\n",
            "==>  sort :\n",
            "  * Most Correlated Unigrams are: movsd, ucomiss, word\n",
            "  * Most Correlated Bigrams are: qword cmp, word mov, qword word\n",
            "  * Most Correlated Trigrams are: cmp qword test, mov qword word, mov qword qword\n",
            "\n",
            "==>  string :\n",
            "  * Most Correlated Unigrams are: xmm0, movsxd, movsd\n",
            "  * Most Correlated Bigrams are: test cmp, dword test, test mov\n",
            "  * Most Correlated Trigrams are: mov dword test, test mov dword, mov qword test\n"
          ],
          "name": "stdout"
        }
      ]
    },
    {
      "cell_type": "markdown",
      "metadata": {
        "id": "nBVqjjr7fn2W"
      },
      "source": [
        "##Split the Dataset into Training & Testing Sets"
      ]
    },
    {
      "cell_type": "code",
      "metadata": {
        "colab": {
          "base_uri": "https://localhost:8080/"
        },
        "id": "qGdeWsHgBo83",
        "outputId": "e3c97ad1-6c6e-4cae-838b-9c14f15093dc"
      },
      "source": [
        "X = df['content'] # collection of news data\n",
        "y = df['label'] # labels(i.e.,for the 4 different news categories)\n",
        "X_train, X_test, y_train, y_test = train_test_split(X, y, \n",
        "                                                    test_size=0.25,\n",
        "                                                    random_state = 0)\n",
        "print(\"shape of x_train set :\", X_train.shape)\n",
        "print(\"shape of y_train set :\",y_train.shape)\n",
        "print(\"shape of x_test set :\",X_test.shape)\n",
        "print(\"shape of y_test set :\",y_test.shape)"
      ],
      "execution_count": null,
      "outputs": [
        {
          "output_type": "stream",
          "text": [
            "shape of x_train set : (4554,)\n",
            "shape of y_train set : (4554,)\n",
            "shape of x_test set : (1519,)\n",
            "shape of y_test set : (1519,)\n"
          ],
          "name": "stdout"
        }
      ]
    },
    {
      "cell_type": "markdown",
      "metadata": {
        "id": "3dOBV6I8fwqa"
      },
      "source": [
        "##Model Selection"
      ]
    },
    {
      "cell_type": "code",
      "metadata": {
        "id": "zxPrdk4eB1VB"
      },
      "source": [
        "models = [\n",
        "    RandomForestClassifier(n_estimators=100, max_depth=5, random_state=0),\n",
        "    LinearSVC(),\n",
        "    MultinomialNB(),\n",
        "    LogisticRegression(random_state=0),\n",
        "]\n",
        "# Cross-validation\n",
        "CV = 5\n",
        "cv_df = pd.DataFrame(index=range(CV * len(models)))\n",
        "entries = []\n",
        "for model in models:\n",
        "    model_name = model.__class__.__name__\n",
        "    accuracies = cross_val_score(model, features, labels, scoring='accuracy', cv=CV)\n",
        "    for fold_idx, accuracy in enumerate(accuracies):\n",
        "        entries.append((model_name, fold_idx, accuracy))\n",
        "    \n",
        "cv_df = pd.DataFrame(entries, columns=['model_name', 'fold_idx', 'accuracy'])"
      ],
      "execution_count": null,
      "outputs": []
    },
    {
      "cell_type": "markdown",
      "metadata": {
        "id": "jTZYjBqDf__n"
      },
      "source": [
        " Cross-validation to get the performance for each model"
      ]
    },
    {
      "cell_type": "code",
      "metadata": {
        "colab": {
          "base_uri": "https://localhost:8080/",
          "height": 202
        },
        "id": "KNDz55XTCBcH",
        "outputId": "6218400e-4e0f-48ca-9a92-cda12e084a17"
      },
      "source": [
        "mean_accuracy = cv_df.groupby('model_name').accuracy.mean()\n",
        "std_accuracy = cv_df.groupby('model_name').accuracy.std()\n",
        "acc = pd.concat([mean_accuracy, std_accuracy], axis= 1, \n",
        "          ignore_index=True)\n",
        "acc.columns = ['Mean Accuracy', 'Standard deviation']\n",
        "acc"
      ],
      "execution_count": null,
      "outputs": [
        {
          "output_type": "execute_result",
          "data": {
            "text/html": [
              "<div>\n",
              "<style scoped>\n",
              "    .dataframe tbody tr th:only-of-type {\n",
              "        vertical-align: middle;\n",
              "    }\n",
              "\n",
              "    .dataframe tbody tr th {\n",
              "        vertical-align: top;\n",
              "    }\n",
              "\n",
              "    .dataframe thead th {\n",
              "        text-align: right;\n",
              "    }\n",
              "</style>\n",
              "<table border=\"1\" class=\"dataframe\">\n",
              "  <thead>\n",
              "    <tr style=\"text-align: right;\">\n",
              "      <th></th>\n",
              "      <th>Mean Accuracy</th>\n",
              "      <th>Standard deviation</th>\n",
              "    </tr>\n",
              "    <tr>\n",
              "      <th>model_name</th>\n",
              "      <th></th>\n",
              "      <th></th>\n",
              "    </tr>\n",
              "  </thead>\n",
              "  <tbody>\n",
              "    <tr>\n",
              "      <th>LinearSVC</th>\n",
              "      <td>0.987818</td>\n",
              "      <td>0.015423</td>\n",
              "    </tr>\n",
              "    <tr>\n",
              "      <th>LogisticRegression</th>\n",
              "      <td>0.980079</td>\n",
              "      <td>0.018024</td>\n",
              "    </tr>\n",
              "    <tr>\n",
              "      <th>MultinomialNB</th>\n",
              "      <td>0.906967</td>\n",
              "      <td>0.015786</td>\n",
              "    </tr>\n",
              "    <tr>\n",
              "      <th>RandomForestClassifier</th>\n",
              "      <td>0.888032</td>\n",
              "      <td>0.017320</td>\n",
              "    </tr>\n",
              "  </tbody>\n",
              "</table>\n",
              "</div>"
            ],
            "text/plain": [
              "                        Mean Accuracy  Standard deviation\n",
              "model_name                                               \n",
              "LinearSVC                    0.987818            0.015423\n",
              "LogisticRegression           0.980079            0.018024\n",
              "MultinomialNB                0.906967            0.015786\n",
              "RandomForestClassifier       0.888032            0.017320"
            ]
          },
          "metadata": {
            "tags": []
          },
          "execution_count": 19
        }
      ]
    },
    {
      "cell_type": "markdown",
      "metadata": {
        "id": "knozgPvRgJYT"
      },
      "source": [
        "##Build Model & Evaluate"
      ]
    },
    {
      "cell_type": "markdown",
      "metadata": {
        "id": "NVyN8oeTO2h6"
      },
      "source": [
        "Split the dataset"
      ]
    },
    {
      "cell_type": "code",
      "metadata": {
        "id": "gbwmNem9CTSE"
      },
      "source": [
        "X_train, X_test, y_train, y_test,indices_train,indices_test = train_test_split(features, \n",
        "                                                               labels, \n",
        "                                                               df.index, test_size=0.25, \n",
        "                                                               random_state=1)"
      ],
      "execution_count": null,
      "outputs": []
    },
    {
      "cell_type": "markdown",
      "metadata": {
        "id": "WzW4duYHPGUK"
      },
      "source": [
        "LinearSVC evaluation"
      ]
    },
    {
      "cell_type": "code",
      "metadata": {
        "colab": {
          "base_uri": "https://localhost:8080/"
        },
        "id": "d8CHf48tPAVJ",
        "outputId": "19ac29eb-503d-4907-9623-c6bb2ccfcf4a"
      },
      "source": [
        "model1 = LinearSVC(random_state=0)\n",
        "start = time.time()\n",
        "model1.fit(X_train, y_train)\n",
        "stop = time.time()\n",
        "print(f\"Training time: {stop - start}s\")\n",
        "y_pred = model1.predict(X_test)\n",
        "# Classification report\n",
        "print('\\t\\t\\tCLASSIFICATION REPORT\\n')\n",
        "print(metrics.classification_report(y_test, y_pred, \n",
        "                                    target_names= df['label'].unique()))"
      ],
      "execution_count": null,
      "outputs": [
        {
          "output_type": "stream",
          "text": [
            "Training time: 0.21102046966552734s\n",
            "\t\t\tCLASSIFICATION REPORT\n",
            "\n",
            "              precision    recall  f1-score   support\n",
            "\n",
            "      string       0.99      1.00      0.99       484\n",
            "        math       1.00      0.99      0.99       639\n",
            "  encryption       0.99      0.99      0.99       269\n",
            "        sort       0.97      0.95      0.96       127\n",
            "\n",
            "    accuracy                           0.99      1519\n",
            "   macro avg       0.99      0.98      0.98      1519\n",
            "weighted avg       0.99      0.99      0.99      1519\n",
            "\n"
          ],
          "name": "stdout"
        }
      ]
    },
    {
      "cell_type": "code",
      "metadata": {
        "colab": {
          "base_uri": "https://localhost:8080/"
        },
        "id": "IUZzJcCtCbm4",
        "outputId": "aa076da6-cabf-4464-cc4e-d4b08da9d9b5"
      },
      "source": [
        "print(\"Accuracy:\",metrics.accuracy_score(y_test, y_pred))\n",
        "print(\"Precision:\",metrics.precision_score(y_test, y_pred, average='macro'))\n",
        "print(\"Recall:\",metrics.recall_score(y_test, y_pred, average='macro'))\n",
        "print(\"F1:\",metrics.f1_score(y_test, y_pred, average='macro'))"
      ],
      "execution_count": null,
      "outputs": [
        {
          "output_type": "stream",
          "text": [
            "Accuracy: 0.990125082290981\n",
            "Precision: 0.9857824337942886\n",
            "Recall: 0.9834662935524778\n",
            "F1: 0.9845973822168206\n"
          ],
          "name": "stdout"
        }
      ]
    },
    {
      "cell_type": "code",
      "metadata": {
        "colab": {
          "base_uri": "https://localhost:8080/",
          "height": 530
        },
        "id": "5OgTzPUzClTX",
        "outputId": "e2f2db29-1efb-46c6-81e2-7ce38283c9e3"
      },
      "source": [
        "import seaborn as sns\n",
        "conf_mat = confusion_matrix(y_test, y_pred)\n",
        "fig, ax = plt.subplots(figsize=(8,8))\n",
        "sns.heatmap(conf_mat, annot=True, cmap=\"Blues\", fmt='d',\n",
        "            xticklabels=new_df.label.values, \n",
        "            yticklabels=new_df.label.values)\n",
        "plt.ylabel('Actual')\n",
        "plt.xlabel('Predicted')\n",
        "plt.title(\"CONFUSION MATRIX - Linear Support Vector Machine\\n\", size=14)\n",
        "plt.savefig('c_matrix_SVC.eps', bbox_inches='tight')"
      ],
      "execution_count": null,
      "outputs": [
        {
          "output_type": "display_data",
          "data": {
            "image/png": "[encoded data removed]",
            "text/plain": [
              "<Figure size 576x576 with 2 Axes>"
            ]
          },
          "metadata": {
            "tags": [],
            "needs_background": "light"
          }
        }
      ]
    },
    {
      "cell_type": "markdown",
      "metadata": {
        "id": "Ze8O4QWgPMyp"
      },
      "source": [
        "LogisticRegression evaluation"
      ]
    },
    {
      "cell_type": "code",
      "metadata": {
        "colab": {
          "base_uri": "https://localhost:8080/"
        },
        "id": "6tv_c2H4NZtz",
        "outputId": "ff1a7098-0db9-48c6-e7be-2797f4b0be59"
      },
      "source": [
        "model2 = LogisticRegression(random_state=0)\n",
        "start = time.time()\n",
        "model2.fit(X_train, y_train)\n",
        "stop = time.time()\n",
        "print(f\"Training time: {stop - start}s\")\n",
        "y_pred = model2.predict(X_test)\n",
        "# Classification report\n",
        "print('\\t\\t\\tCLASSIFICATION REPORT\\n')\n",
        "print(metrics.classification_report(y_test, y_pred, \n",
        "                                    target_names= df['label'].unique()))"
      ],
      "execution_count": null,
      "outputs": [
        {
          "output_type": "stream",
          "text": [
            "Training time: 8.452704191207886s\n",
            "\t\t\tCLASSIFICATION REPORT\n",
            "\n",
            "              precision    recall  f1-score   support\n",
            "\n",
            "      string       0.97      0.99      0.98       484\n",
            "        math       1.00      0.98      0.99       639\n",
            "  encryption       0.99      0.99      0.99       269\n",
            "        sort       0.91      0.87      0.89       127\n",
            "\n",
            "    accuracy                           0.98      1519\n",
            "   macro avg       0.96      0.96      0.96      1519\n",
            "weighted avg       0.98      0.98      0.98      1519\n",
            "\n"
          ],
          "name": "stdout"
        }
      ]
    },
    {
      "cell_type": "code",
      "metadata": {
        "colab": {
          "base_uri": "https://localhost:8080/"
        },
        "id": "wIbKFks6NbFL",
        "outputId": "f435fcc7-0598-4a4c-c57d-29676c4aebe1"
      },
      "source": [
        "print(\"Accuracy:\",metrics.accuracy_score(y_test, y_pred))\n",
        "print(\"Precision:\",metrics.precision_score(y_test, y_pred, average='macro'))\n",
        "print(\"Recall:\",metrics.recall_score(y_test, y_pred, average='macro'))\n",
        "print(\"F1:\",metrics.f1_score(y_test, y_pred, average='macro'))"
      ],
      "execution_count": null,
      "outputs": [
        {
          "output_type": "stream",
          "text": [
            "Accuracy: 0.978275181040158\n",
            "Precision: 0.9649008615091115\n",
            "Recall: 0.9593245150447627\n",
            "F1: 0.9619698914604277\n"
          ],
          "name": "stdout"
        }
      ]
    },
    {
      "cell_type": "code",
      "metadata": {
        "colab": {
          "base_uri": "https://localhost:8080/",
          "height": 530
        },
        "id": "tQwN-4AoNg1p",
        "outputId": "15285135-3a38-4a76-89f3-54a0defd9646"
      },
      "source": [
        "import seaborn as sns\n",
        "conf_mat = confusion_matrix(y_test, y_pred)\n",
        "fig, ax = plt.subplots(figsize=(8,8))\n",
        "sns.heatmap(conf_mat, annot=True, cmap=\"Blues\", fmt='d',\n",
        "            xticklabels=new_df.label.values, \n",
        "            yticklabels=new_df.label.values)\n",
        "plt.ylabel('Actual')\n",
        "plt.xlabel('Predicted')\n",
        "plt.title(\"CONFUSION MATRIX - Logistic Regression\\n\", size=14)\n",
        "plt.savefig('c_matrix_LogisticRegression.eps', bbox_inches='tight')"
      ],
      "execution_count": null,
      "outputs": [
        {
          "output_type": "display_data",
          "data": {
            "image/png": "[encoded data removed]",
            "text/plain": [
              "<Figure size 576x576 with 2 Axes>"
            ]
          },
          "metadata": {
            "tags": [],
            "needs_background": "light"
          }
        }
      ]
    },
    {
      "cell_type": "markdown",
      "metadata": {
        "id": "hLzUn3sgPR7_"
      },
      "source": [
        "MultinomialNB evaluation"
      ]
    },
    {
      "cell_type": "code",
      "metadata": {
        "colab": {
          "base_uri": "https://localhost:8080/"
        },
        "id": "Q1vxAnrmNoLd",
        "outputId": "8aae580c-46a5-4269-dde1-81657e24677c"
      },
      "source": [
        "model3 = MultinomialNB()\n",
        "start = time.time()\n",
        "model3.fit(X_train, y_train)\n",
        "stop = time.time()\n",
        "print(f\"Training time: {stop - start}s\")\n",
        "y_pred = model3.predict(X_test)\n",
        "# Classification report\n",
        "print('\\t\\t\\tCLASSIFICATION REPORT\\n')\n",
        "print(metrics.classification_report(y_test, y_pred, \n",
        "                                    target_names= df['label'].unique()))"
      ],
      "execution_count": null,
      "outputs": [
        {
          "output_type": "stream",
          "text": [
            "Training time: 0.14189505577087402s\n",
            "\t\t\tCLASSIFICATION REPORT\n",
            "\n",
            "              precision    recall  f1-score   support\n",
            "\n",
            "      string       0.79      0.99      0.88       484\n",
            "        math       1.00      0.96      0.98       639\n",
            "  encryption       1.00      0.96      0.98       269\n",
            "        sort       0.76      0.20      0.32       127\n",
            "\n",
            "    accuracy                           0.91      1519\n",
            "   macro avg       0.89      0.78      0.79      1519\n",
            "weighted avg       0.91      0.91      0.89      1519\n",
            "\n"
          ],
          "name": "stdout"
        }
      ]
    },
    {
      "cell_type": "code",
      "metadata": {
        "colab": {
          "base_uri": "https://localhost:8080/"
        },
        "id": "gKSmaLGLNoLd",
        "outputId": "a27854b3-1c7c-4a34-b289-2bae4281245b"
      },
      "source": [
        "print(\"Accuracy:\",metrics.accuracy_score(y_test, y_pred))\n",
        "print(\"Precision:\",metrics.precision_score(y_test, y_pred, average='macro'))\n",
        "print(\"Recall:\",metrics.recall_score(y_test, y_pred, average='macro'))\n",
        "print(\"F1:\",metrics.f1_score(y_test, y_pred, average='macro'))"
      ],
      "execution_count": null,
      "outputs": [
        {
          "output_type": "stream",
          "text": [
            "Accuracy: 0.9078341013824884\n",
            "Precision: 0.886528253109682\n",
            "Recall: 0.7790894278669656\n",
            "F1: 0.789238665636196\n"
          ],
          "name": "stdout"
        }
      ]
    },
    {
      "cell_type": "code",
      "metadata": {
        "colab": {
          "base_uri": "https://localhost:8080/",
          "height": 530
        },
        "id": "dY7CyaomNoLd",
        "outputId": "0f9f7b79-831a-4691-ada8-447182295274"
      },
      "source": [
        "import seaborn as sns\n",
        "conf_mat = confusion_matrix(y_test, y_pred)\n",
        "fig, ax = plt.subplots(figsize=(8,8))\n",
        "sns.heatmap(conf_mat, annot=True, cmap=\"Blues\", fmt='d',\n",
        "            xticklabels=new_df.label.values, \n",
        "            yticklabels=new_df.label.values)\n",
        "plt.ylabel('Actual')\n",
        "plt.xlabel('Predicted')\n",
        "plt.title(\"CONFUSION MATRIX - Multinomial Naive Bayes\\n\", size=14)\n",
        "plt.savefig('c_matrix_MultinomialNB.eps', bbox_inches='tight')"
      ],
      "execution_count": null,
      "outputs": [
        {
          "output_type": "display_data",
          "data": {
            "image/png": "[encoded data removed]",
            "text/plain": [
              "<Figure size 576x576 with 2 Axes>"
            ]
          },
          "metadata": {
            "tags": [],
            "needs_background": "light"
          }
        }
      ]
    },
    {
      "cell_type": "markdown",
      "metadata": {
        "id": "4iEpObWOPVoF"
      },
      "source": [
        "RandomForestClassifier evaluation"
      ]
    },
    {
      "cell_type": "code",
      "metadata": {
        "colab": {
          "base_uri": "https://localhost:8080/"
        },
        "id": "Se6PF-CRNpXn",
        "outputId": "e9beec48-6d17-4af8-87b6-78cc07bc0a11"
      },
      "source": [
        "model4 = RandomForestClassifier(random_state=0)\n",
        "start = time.time()\n",
        "model4.fit(X_train, y_train)\n",
        "stop = time.time()\n",
        "print(f\"Training time: {stop - start}s\")\n",
        "y_pred = model4.predict(X_test)\n",
        "# Classification report\n",
        "print('\\t\\t\\tCLASSIFICATION REPORT\\n')\n",
        "print(metrics.classification_report(y_test, y_pred, \n",
        "                                    target_names= df['label'].unique()))"
      ],
      "execution_count": null,
      "outputs": [
        {
          "output_type": "stream",
          "text": [
            "Training time: 3.5379371643066406s\n",
            "\t\t\tCLASSIFICATION REPORT\n",
            "\n",
            "              precision    recall  f1-score   support\n",
            "\n",
            "      string       0.98      1.00      0.99       484\n",
            "        math       1.00      0.99      0.99       639\n",
            "  encryption       0.99      0.99      0.99       269\n",
            "        sort       0.95      0.94      0.95       127\n",
            "\n",
            "    accuracy                           0.99      1519\n",
            "   macro avg       0.98      0.98      0.98      1519\n",
            "weighted avg       0.99      0.99      0.99      1519\n",
            "\n"
          ],
          "name": "stdout"
        }
      ]
    },
    {
      "cell_type": "code",
      "metadata": {
        "colab": {
          "base_uri": "https://localhost:8080/"
        },
        "id": "mk7OQkGdNpXn",
        "outputId": "3957e883-b894-44cb-b17c-8656e54c7cf5"
      },
      "source": [
        "print(\"Accuracy:\",metrics.accuracy_score(y_test, y_pred))\n",
        "print(\"Precision:\",metrics.precision_score(y_test, y_pred, average='macro'))\n",
        "print(\"Recall:\",metrics.recall_score(y_test, y_pred, average='macro'))\n",
        "print(\"F1:\",metrics.f1_score(y_test, y_pred, average='macro'))"
      ],
      "execution_count": null,
      "outputs": [
        {
          "output_type": "stream",
          "text": [
            "Accuracy: 0.9881500987491771\n",
            "Precision: 0.9812527599618346\n",
            "Recall: 0.9800518926601103\n",
            "F1: 0.980631185215694\n"
          ],
          "name": "stdout"
        }
      ]
    },
    {
      "cell_type": "code",
      "metadata": {
        "colab": {
          "base_uri": "https://localhost:8080/",
          "height": 530
        },
        "id": "ARpaOMIjNpXn",
        "outputId": "b3fcef9e-700b-483d-f713-f33326534748"
      },
      "source": [
        "import seaborn as sns\n",
        "conf_mat = confusion_matrix(y_test, y_pred)\n",
        "fig, ax = plt.subplots(figsize=(8,8))\n",
        "sns.heatmap(conf_mat, annot=True, cmap=\"Blues\", fmt='d',\n",
        "            xticklabels=new_df.label.values, \n",
        "            yticklabels=new_df.label.values)\n",
        "plt.ylabel('Actual')\n",
        "plt.xlabel('Predicted')\n",
        "plt.title(\"CONFUSION MATRIX - Random Forest Classifier\\n\", size=14)\n",
        "plt.savefig('c_matrix_RandomForestClassifier.eps', bbox_inches='tight')"
      ],
      "execution_count": null,
      "outputs": [
        {
          "output_type": "display_data",
          "data": {
            "image/png": "[encoded data removed]",
            "text/plain": [
              "<Figure size 576x576 with 2 Axes>"
            ]
          },
          "metadata": {
            "tags": [],
            "needs_background": "light"
          }
        }
      ]
    },
    {
      "cell_type": "markdown",
      "metadata": {
        "id": "AaiH-mlO6I-9"
      },
      "source": [
        "## Blind test & Prediction "
      ]
    },
    {
      "cell_type": "code",
      "metadata": {
        "colab": {
          "base_uri": "https://localhost:8080/"
        },
        "id": "IfjWQnm_ks13",
        "outputId": "371fc580-4486-4cb8-ae5a-baa34f5c5f48"
      },
      "source": [
        "data = []\n",
        "for line in open(\"blindtest.json\", \"r\"):\n",
        "    data.append(json.loads(line))\n",
        "content, label = [], []\n",
        "for each in data:\n",
        "    content.append(each['lista_asm'])\n",
        "#    label.append(each['semantic'])\n",
        "df = pd.DataFrame([content]).T\n",
        "df.columns = ['content']\n",
        "print(df.head())\n",
        "'''create a csv dataset file using json dataset file'''\n",
        "df.to_csv('New_Blindtest.csv', index = False)"
      ],
      "execution_count": null,
      "outputs": [
        {
          "output_type": "stream",
          "text": [
            "                                             content\n",
            "0  ['jmp qword ptr [rip + 0x203b72]', 'jmp qword ...\n",
            "1  ['sub rsp, 0x28', 'mov rax, qword ptr fs:[0x28...\n",
            "2  ['jmp qword ptr [rip + 0x200bc2]', 'jmp qword ...\n",
            "3  ['jmp qword ptr [rip + 0x2177ea]', 'jmp qword ...\n",
            "4  ['ucomisd xmm1, xmm1', 'movapd xmm7, xmm0', 'm...\n"
          ],
          "name": "stdout"
        }
      ]
    },
    {
      "cell_type": "code",
      "metadata": {
        "colab": {
          "base_uri": "https://localhost:8080/",
          "height": 355
        },
        "id": "cSjDhmd8l17t",
        "outputId": "b73ddcd3-bcc4-4dcc-c289-64f6de0a4781"
      },
      "source": [
        "import re\n",
        "from nltk.corpus import stopwords\n",
        "REPLACE_BY_SPACE_RE = re.compile('[/(){}\\[\\]\\|@,;]')\n",
        "BAD_SYMBOLS_RE = re.compile('[^0-9a-z #+_]')\n",
        "#STOPWORDS = set(stopwords.words('english'))\n",
        "char_of_int_lst = ['not','and','or','xor','sal','sar','shr','shl',\n",
        "                   'cmp','test','mov',\n",
        "                   'xmm',\n",
        "                   'ucomis']\n",
        "def clean_text(text):\n",
        "    \"\"\"\n",
        "        text: a string\n",
        "        \n",
        "        return: modified string\n",
        "    \"\"\"\n",
        "    text = str(text).lower() # lowercase text\n",
        "    text = REPLACE_BY_SPACE_RE.sub(' ', text) # replace REPLACE_BY_SPACE_RE symbols by space in text\n",
        "    text = BAD_SYMBOLS_RE.sub('', text) # delete symbols which are in BAD_SYMBOLS_RE from text\n",
        "    text = re.sub(\" \\d+\", \" \", text) # remove digits\n",
        "    text = re.sub(\" #\\d+\", \" \", text) # remove digits starting with # symbol\n",
        "    text = ' '.join(word for word in text.split() if any(ch in word for ch in char_of_int_lst)) # delete stopwors from text\n",
        "    return text\n",
        "df['content'] = df['content'].apply(clean_text)\n",
        "df.head(10)\n",
        "\n"
      ],
      "execution_count": null,
      "outputs": [
        {
          "output_type": "execute_result",
          "data": {
            "text/html": [
              "<div>\n",
              "<style scoped>\n",
              "    .dataframe tbody tr th:only-of-type {\n",
              "        vertical-align: middle;\n",
              "    }\n",
              "\n",
              "    .dataframe tbody tr th {\n",
              "        vertical-align: top;\n",
              "    }\n",
              "\n",
              "    .dataframe thead th {\n",
              "        text-align: right;\n",
              "    }\n",
              "</style>\n",
              "<table border=\"1\" class=\"dataframe\">\n",
              "  <thead>\n",
              "    <tr style=\"text-align: right;\">\n",
              "      <th></th>\n",
              "      <th>content</th>\n",
              "    </tr>\n",
              "  </thead>\n",
              "  <tbody>\n",
              "    <tr>\n",
              "      <th>0</th>\n",
              "      <td>qword qword qword qword mov mov mov mov mov mo...</td>\n",
              "    </tr>\n",
              "    <tr>\n",
              "      <th>1</th>\n",
              "      <td>mov qword mov qword xor ucomisd xmm0 xmm0 mov ...</td>\n",
              "    </tr>\n",
              "    <tr>\n",
              "      <th>2</th>\n",
              "      <td>qword qword qword mov mov test mov mov dword m...</td>\n",
              "    </tr>\n",
              "    <tr>\n",
              "      <th>3</th>\n",
              "      <td>qword qword qword qword mov cmp mov xor test m...</td>\n",
              "    </tr>\n",
              "    <tr>\n",
              "      <th>4</th>\n",
              "      <td>ucomisd xmm1 xmm1 movapd xmm7 xmm0 movapd xmm5...</td>\n",
              "    </tr>\n",
              "    <tr>\n",
              "      <th>5</th>\n",
              "      <td>qword mov mov qword mov qword cmp qword mov mo...</td>\n",
              "    </tr>\n",
              "    <tr>\n",
              "      <th>6</th>\n",
              "      <td>mov mov qword mov dword mov qword mov qword mo...</td>\n",
              "    </tr>\n",
              "    <tr>\n",
              "      <th>7</th>\n",
              "      <td>mov mov xor mov word movsxd mov shr sar mov mo...</td>\n",
              "    </tr>\n",
              "    <tr>\n",
              "      <th>8</th>\n",
              "      <td>test xor word mov dword test mov mov dword tes...</td>\n",
              "    </tr>\n",
              "    <tr>\n",
              "      <th>9</th>\n",
              "      <td>movapd xmm3 xmm1 xmm3 xmm2 movapd xmm14 xmm3 x...</td>\n",
              "    </tr>\n",
              "  </tbody>\n",
              "</table>\n",
              "</div>"
            ],
            "text/plain": [
              "                                             content\n",
              "0  qword qword qword qword mov mov mov mov mov mo...\n",
              "1  mov qword mov qword xor ucomisd xmm0 xmm0 mov ...\n",
              "2  qword qword qword mov mov test mov mov dword m...\n",
              "3  qword qword qword qword mov cmp mov xor test m...\n",
              "4  ucomisd xmm1 xmm1 movapd xmm7 xmm0 movapd xmm5...\n",
              "5  qword mov mov qword mov qword cmp qword mov mo...\n",
              "6  mov mov qword mov dword mov qword mov qword mo...\n",
              "7  mov mov xor mov word movsxd mov shr sar mov mo...\n",
              "8  test xor word mov dword test mov mov dword tes...\n",
              "9  movapd xmm3 xmm1 xmm3 xmm2 movapd xmm14 xmm3 x..."
            ]
          },
          "metadata": {
            "tags": []
          },
          "execution_count": 35
        }
      ]
    },
    {
      "cell_type": "code",
      "metadata": {
        "colab": {
          "base_uri": "https://localhost:8080/"
        },
        "id": "yuQlor17mnNo",
        "outputId": "a4622d5f-7f33-46c9-aa3f-f9fe1d63257a"
      },
      "source": [
        "X_test = tfidf.transform(df['content'])\n",
        "\n",
        "model = model1 #set model1 (linearSVC), model2 (LogisticRegression), model3 (MultinomialNB), model4 (RandomForestClassifier)\n",
        "\n",
        "y_pred = model.predict(X_test)\n",
        "\n",
        "#print(y_pred)\n",
        "\n",
        "for i in range(len(y_pred)): \n",
        "  if y_pred[i] == 0:\n",
        "    print (\"string\")\n",
        "  elif y_pred[i] == 1:\n",
        "    print (\"math\")\n",
        "  elif y_pred[i] == 2:\n",
        "    print (\"encryption\")\n",
        "  elif y_pred[i] == 3:\n",
        "    print (\"sort\")"
      ],
      "execution_count": null,
      "outputs": [
        {
          "output_type": "stream",
          "text": [
            "encryption\n",
            "math\n",
            "string\n",
            "string\n",
            "math\n",
            "string\n",
            "encryption\n",
            "encryption\n",
            "sort\n",
            "math\n",
            "math\n",
            "math\n",
            "sort\n",
            "encryption\n",
            "sort\n",
            "math\n",
            "string\n",
            "string\n",
            "math\n",
            "math\n",
            "math\n",
            "string\n",
            "encryption\n",
            "math\n",
            "encryption\n",
            "string\n",
            "string\n",
            "math\n",
            "math\n",
            "sort\n",
            "math\n",
            "string\n",
            "sort\n",
            "sort\n",
            "string\n",
            "sort\n",
            "string\n",
            "math\n",
            "sort\n",
            "string\n",
            "string\n",
            "math\n",
            "sort\n",
            "math\n",
            "sort\n",
            "sort\n",
            "sort\n",
            "string\n",
            "string\n",
            "string\n",
            "sort\n",
            "math\n",
            "math\n",
            "string\n",
            "math\n",
            "string\n",
            "math\n",
            "math\n",
            "math\n",
            "math\n",
            "encryption\n",
            "sort\n",
            "math\n",
            "string\n",
            "string\n",
            "sort\n",
            "math\n",
            "string\n",
            "sort\n",
            "sort\n",
            "encryption\n",
            "encryption\n",
            "string\n",
            "sort\n",
            "math\n",
            "sort\n",
            "sort\n",
            "sort\n",
            "sort\n",
            "sort\n",
            "sort\n",
            "encryption\n",
            "math\n",
            "sort\n",
            "string\n",
            "math\n",
            "string\n",
            "math\n",
            "encryption\n",
            "math\n",
            "string\n",
            "string\n",
            "string\n",
            "sort\n",
            "sort\n",
            "string\n",
            "math\n",
            "encryption\n",
            "encryption\n",
            "encryption\n",
            "math\n",
            "sort\n",
            "sort\n",
            "sort\n",
            "encryption\n",
            "math\n",
            "math\n",
            "math\n",
            "math\n",
            "sort\n",
            "encryption\n",
            "string\n",
            "sort\n",
            "string\n",
            "string\n",
            "encryption\n",
            "math\n",
            "sort\n",
            "sort\n",
            "string\n",
            "encryption\n",
            "math\n",
            "math\n",
            "encryption\n",
            "math\n",
            "encryption\n",
            "math\n",
            "string\n",
            "sort\n",
            "encryption\n",
            "encryption\n",
            "string\n",
            "sort\n",
            "encryption\n",
            "string\n",
            "sort\n",
            "math\n",
            "string\n",
            "encryption\n",
            "math\n",
            "math\n",
            "encryption\n",
            "math\n",
            "math\n",
            "sort\n",
            "encryption\n",
            "math\n",
            "sort\n",
            "encryption\n",
            "math\n",
            "math\n",
            "math\n",
            "string\n",
            "string\n",
            "encryption\n",
            "string\n",
            "encryption\n",
            "math\n",
            "string\n",
            "sort\n",
            "math\n",
            "sort\n",
            "math\n",
            "string\n",
            "encryption\n",
            "string\n",
            "encryption\n",
            "string\n",
            "encryption\n",
            "encryption\n",
            "math\n",
            "encryption\n",
            "sort\n",
            "sort\n",
            "math\n",
            "math\n",
            "encryption\n",
            "string\n",
            "sort\n",
            "math\n",
            "sort\n",
            "string\n",
            "encryption\n",
            "math\n",
            "math\n",
            "math\n",
            "math\n",
            "math\n",
            "string\n",
            "math\n",
            "sort\n",
            "encryption\n",
            "math\n",
            "sort\n",
            "string\n",
            "encryption\n",
            "string\n",
            "sort\n",
            "sort\n",
            "encryption\n",
            "sort\n",
            "encryption\n",
            "math\n",
            "encryption\n",
            "string\n",
            "sort\n",
            "sort\n",
            "sort\n",
            "string\n",
            "encryption\n",
            "sort\n",
            "sort\n",
            "math\n",
            "math\n",
            "string\n",
            "string\n",
            "string\n",
            "math\n",
            "math\n",
            "math\n",
            "math\n",
            "sort\n",
            "sort\n",
            "math\n",
            "encryption\n",
            "sort\n",
            "math\n",
            "encryption\n",
            "encryption\n",
            "encryption\n",
            "math\n",
            "sort\n",
            "sort\n",
            "sort\n",
            "encryption\n",
            "string\n",
            "encryption\n",
            "sort\n",
            "sort\n",
            "math\n",
            "string\n",
            "encryption\n",
            "encryption\n",
            "string\n",
            "sort\n",
            "math\n",
            "math\n",
            "math\n",
            "sort\n",
            "math\n",
            "sort\n",
            "sort\n",
            "encryption\n",
            "encryption\n",
            "sort\n",
            "string\n",
            "sort\n",
            "string\n",
            "math\n",
            "sort\n",
            "encryption\n",
            "encryption\n",
            "string\n",
            "sort\n",
            "math\n",
            "string\n",
            "math\n",
            "encryption\n",
            "string\n",
            "math\n",
            "sort\n",
            "sort\n",
            "string\n",
            "math\n",
            "math\n",
            "string\n",
            "string\n",
            "sort\n",
            "sort\n",
            "string\n",
            "math\n",
            "sort\n",
            "math\n",
            "string\n",
            "encryption\n",
            "math\n",
            "string\n",
            "encryption\n",
            "encryption\n",
            "math\n",
            "sort\n",
            "string\n",
            "math\n",
            "encryption\n",
            "sort\n",
            "math\n",
            "string\n",
            "math\n",
            "sort\n",
            "math\n",
            "string\n",
            "math\n",
            "math\n",
            "math\n",
            "sort\n",
            "sort\n",
            "math\n",
            "string\n",
            "string\n",
            "math\n",
            "sort\n",
            "sort\n",
            "math\n",
            "string\n",
            "string\n",
            "encryption\n",
            "string\n",
            "math\n",
            "string\n",
            "math\n",
            "string\n",
            "encryption\n",
            "math\n",
            "math\n",
            "encryption\n",
            "string\n",
            "string\n",
            "sort\n",
            "math\n",
            "string\n",
            "math\n",
            "math\n",
            "sort\n",
            "sort\n",
            "sort\n",
            "sort\n",
            "math\n",
            "sort\n",
            "math\n",
            "sort\n",
            "string\n",
            "string\n",
            "string\n",
            "sort\n",
            "math\n",
            "string\n",
            "math\n",
            "sort\n",
            "encryption\n",
            "sort\n",
            "sort\n",
            "string\n",
            "sort\n",
            "math\n",
            "sort\n",
            "math\n",
            "encryption\n",
            "math\n",
            "math\n",
            "string\n",
            "math\n",
            "math\n",
            "math\n",
            "encryption\n",
            "math\n",
            "encryption\n",
            "sort\n",
            "math\n",
            "sort\n",
            "math\n",
            "encryption\n",
            "encryption\n",
            "math\n",
            "math\n",
            "string\n",
            "encryption\n",
            "encryption\n",
            "sort\n",
            "sort\n",
            "math\n",
            "math\n",
            "encryption\n",
            "math\n",
            "math\n",
            "math\n",
            "encryption\n",
            "math\n",
            "sort\n",
            "string\n",
            "encryption\n",
            "sort\n",
            "sort\n",
            "sort\n",
            "sort\n",
            "string\n",
            "encryption\n",
            "encryption\n",
            "sort\n",
            "math\n",
            "math\n",
            "sort\n",
            "sort\n",
            "string\n",
            "sort\n",
            "string\n",
            "sort\n",
            "math\n",
            "string\n",
            "math\n",
            "math\n",
            "encryption\n",
            "sort\n",
            "string\n",
            "encryption\n",
            "string\n",
            "math\n",
            "string\n",
            "string\n",
            "math\n",
            "string\n",
            "sort\n",
            "sort\n",
            "sort\n",
            "string\n",
            "math\n",
            "sort\n",
            "math\n",
            "math\n",
            "sort\n",
            "encryption\n",
            "string\n",
            "sort\n",
            "sort\n",
            "encryption\n",
            "math\n",
            "math\n",
            "encryption\n",
            "math\n",
            "math\n",
            "math\n",
            "encryption\n",
            "string\n",
            "sort\n",
            "sort\n",
            "encryption\n",
            "string\n",
            "math\n",
            "sort\n",
            "math\n",
            "encryption\n",
            "string\n",
            "math\n",
            "encryption\n",
            "math\n",
            "sort\n",
            "string\n",
            "sort\n",
            "encryption\n",
            "string\n",
            "math\n",
            "math\n",
            "sort\n",
            "string\n",
            "encryption\n",
            "math\n",
            "string\n",
            "sort\n",
            "math\n",
            "math\n",
            "encryption\n",
            "math\n",
            "math\n",
            "math\n",
            "string\n",
            "string\n",
            "encryption\n",
            "math\n",
            "math\n",
            "sort\n",
            "math\n",
            "sort\n",
            "sort\n",
            "sort\n",
            "encryption\n",
            "math\n",
            "sort\n",
            "string\n",
            "encryption\n",
            "string\n",
            "math\n",
            "math\n",
            "sort\n",
            "string\n",
            "string\n",
            "sort\n",
            "sort\n",
            "sort\n",
            "sort\n",
            "sort\n",
            "string\n",
            "math\n",
            "sort\n",
            "string\n",
            "math\n",
            "encryption\n",
            "string\n",
            "string\n",
            "encryption\n",
            "string\n",
            "math\n",
            "encryption\n",
            "math\n",
            "encryption\n",
            "encryption\n",
            "encryption\n",
            "string\n",
            "math\n",
            "string\n",
            "sort\n",
            "string\n",
            "sort\n",
            "math\n",
            "sort\n",
            "sort\n",
            "string\n",
            "string\n",
            "math\n",
            "math\n",
            "string\n",
            "math\n",
            "encryption\n",
            "sort\n",
            "math\n",
            "sort\n",
            "encryption\n",
            "encryption\n",
            "sort\n",
            "encryption\n",
            "encryption\n",
            "sort\n",
            "math\n",
            "encryption\n",
            "encryption\n",
            "sort\n",
            "encryption\n",
            "string\n",
            "string\n",
            "encryption\n",
            "encryption\n",
            "sort\n",
            "sort\n",
            "string\n",
            "math\n",
            "math\n",
            "encryption\n",
            "string\n",
            "math\n",
            "math\n",
            "sort\n",
            "encryption\n",
            "sort\n",
            "string\n",
            "sort\n",
            "math\n",
            "string\n",
            "sort\n",
            "encryption\n",
            "sort\n",
            "math\n",
            "encryption\n",
            "sort\n",
            "string\n",
            "math\n",
            "encryption\n",
            "sort\n",
            "math\n",
            "encryption\n",
            "math\n",
            "sort\n",
            "math\n",
            "string\n",
            "sort\n",
            "encryption\n",
            "string\n",
            "sort\n",
            "sort\n",
            "math\n",
            "math\n",
            "sort\n",
            "math\n",
            "sort\n",
            "string\n",
            "math\n",
            "encryption\n",
            "string\n",
            "encryption\n",
            "math\n",
            "sort\n",
            "encryption\n",
            "string\n",
            "sort\n",
            "encryption\n",
            "sort\n",
            "math\n",
            "math\n",
            "sort\n",
            "math\n",
            "math\n",
            "sort\n",
            "math\n",
            "sort\n",
            "math\n",
            "sort\n",
            "encryption\n",
            "string\n",
            "sort\n",
            "sort\n",
            "encryption\n",
            "string\n",
            "sort\n",
            "sort\n",
            "math\n",
            "string\n",
            "sort\n",
            "encryption\n",
            "encryption\n",
            "math\n",
            "math\n",
            "math\n",
            "sort\n",
            "sort\n",
            "math\n",
            "string\n",
            "math\n",
            "sort\n",
            "string\n",
            "sort\n",
            "math\n",
            "math\n",
            "string\n",
            "string\n",
            "encryption\n",
            "string\n",
            "string\n",
            "sort\n",
            "sort\n",
            "sort\n",
            "sort\n",
            "math\n",
            "string\n",
            "encryption\n",
            "encryption\n",
            "sort\n",
            "encryption\n",
            "string\n",
            "encryption\n",
            "encryption\n",
            "math\n",
            "math\n",
            "sort\n",
            "math\n",
            "string\n",
            "math\n",
            "math\n",
            "string\n",
            "math\n",
            "sort\n",
            "math\n",
            "math\n",
            "sort\n",
            "sort\n",
            "string\n",
            "encryption\n",
            "sort\n",
            "string\n",
            "sort\n",
            "math\n",
            "string\n",
            "encryption\n",
            "math\n",
            "sort\n",
            "sort\n",
            "math\n",
            "encryption\n",
            "encryption\n",
            "sort\n",
            "string\n",
            "sort\n",
            "encryption\n",
            "math\n",
            "sort\n",
            "math\n",
            "encryption\n",
            "sort\n",
            "math\n",
            "sort\n",
            "sort\n",
            "string\n",
            "encryption\n",
            "string\n",
            "math\n",
            "sort\n",
            "encryption\n",
            "string\n",
            "math\n",
            "math\n",
            "encryption\n",
            "string\n",
            "encryption\n",
            "sort\n",
            "sort\n",
            "math\n",
            "math\n",
            "sort\n",
            "string\n",
            "math\n",
            "string\n",
            "string\n",
            "encryption\n",
            "math\n",
            "string\n",
            "string\n",
            "sort\n",
            "math\n",
            "math\n",
            "math\n",
            "math\n",
            "string\n",
            "encryption\n",
            "math\n",
            "math\n",
            "encryption\n",
            "string\n",
            "sort\n",
            "math\n",
            "sort\n",
            "encryption\n",
            "math\n",
            "math\n",
            "string\n",
            "string\n",
            "sort\n",
            "encryption\n",
            "sort\n",
            "sort\n",
            "string\n",
            "string\n",
            "math\n",
            "math\n",
            "encryption\n",
            "math\n",
            "string\n",
            "math\n",
            "encryption\n",
            "encryption\n",
            "math\n",
            "math\n"
          ],
          "name": "stdout"
        }
      ]
    },
    {
      "cell_type": "code",
      "metadata": {
        "id": "zyzHmv2TsnG7"
      },
      "source": [
        "# save the model\n",
        "model_filename = open('finalized_model.sav', 'wb')\n",
        "pickle.dump(model, model_filename)\n",
        "model_filename.close()\n",
        "# save fitted vectorizer to use for the prediction time\n",
        "tf_idf_output = open('fitted_vectorizer.pickle', 'wb')\n",
        "pickle.dump(fitted_vectorizer, tf_idf_output)\n",
        "tf_idf_output.close()\n",
        "# save the dictionaries\n",
        "output1 = open('category_to_id.pkl', 'wb')\n",
        "pickle.dump(category_to_id, output1)\n",
        "output1.close()\n",
        "output2 = open('id_to_category.pkl', 'wb')\n",
        "pickle.dump(id_to_category, output2)\n",
        "output2.close()"
      ],
      "execution_count": null,
      "outputs": []
    },
    {
      "cell_type": "code",
      "metadata": {
        "id": "ZKUfUgK5tzEE"
      },
      "source": [
        "# Load from file\n",
        "with open(pkl_filename, 'rb') as file:\n",
        "    pickle_model = pickle.load(file)\n",
        "\n",
        "# Restore tuple\n",
        "pickled_model, pickled_Xtrain, pickled_Ytrain, pickled_score = pickle.load(open(\"tuple_model.pkl\", 'rb'))\n",
        "    \n",
        "# Calculate the accuracy score and predict target values\n",
        "score = pickle_model.score(Xtest, Ytest)\n",
        "print(\"Test score: {0:.2f} %\".format(100 * score))\n",
        "Ypredict = pickle_model.predict(Xtest)"
      ],
      "execution_count": null,
      "outputs": []
    }
  ]
}